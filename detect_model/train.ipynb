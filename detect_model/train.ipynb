{
 "cells": [
  {
   "cell_type": "code",
   "execution_count": null,
   "metadata": {},
   "outputs": [],
   "source": [
    "from ultralytics import YOLO\n",
    "import torch\n",
    "\n",
    "#Модуль для тренировки модели с нуля\n",
    "\n",
    "#Очистка кэша\n",
    "torch.cuda.empty_cache()\n",
    "\n",
    "#Тренировка модели yolo11m\n",
    "model = YOLO('yolo11m.pt')\n",
    "model.train(\n",
    "    data='dataset/data.yaml',\n",
    "    epochs=50,\n",
    "    batch=64,\n",
    "    device=0,\n",
    "    cache=False\n",
    ")"
   ]
  }
 ],
 "metadata": {
  "kernelspec": {
   "display_name": ".venv",
   "language": "python",
   "name": "python3"
  },
  "language_info": {
   "name": "python",
   "version": "3.9.6"
  }
 },
 "nbformat": 4,
 "nbformat_minor": 2
}
