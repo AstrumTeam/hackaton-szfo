{
 "cells": [
  {
   "cell_type": "code",
   "execution_count": null,
   "metadata": {},
   "outputs": [],
   "source": [
    "from ultralytics import YOLO\n",
    "import json\n",
    "import os\n",
    "\n",
    "#Модуль для генерации json для тестового датасета\n",
    "\n",
    "model = YOLO('model.pt')\n",
    "\n",
    "response = []\n",
    "count = 10\n",
    "images_path = 'test/images/'\n",
    "for file_name in os.listdir(images_path):\n",
    "    if count > 0: #\n",
    "        threshold = 0.4\n",
    "        pred = model.predict(\n",
    "            images_path+file_name,\n",
    "            # save=True,\n",
    "            conf=threshold,\n",
    "            iou=0.4,\n",
    "            max_det=5,\n",
    "            classes=[0,1])[0]\n",
    "        boxes = pred.boxes\n",
    "\n",
    "        dict = {\"filename\": file_name,\n",
    "                 \"objects\": []}\n",
    "        \n",
    "        if len(boxes) == 0:\n",
    "            dict[\"objects\"].append({})\n",
    "        else:\n",
    "            for box in boxes:\n",
    "                # pred_cls = int(box.cls)\n",
    "                # pred_x = int(box.xywh[0][0])\n",
    "                # pred_y = int(box.xywh[0][1])\n",
    "                # pred_width = int(box.xywh[0][2])\n",
    "                # pred_height = int(box.xywh[0][3])\n",
    "\n",
    "                dict[\"objects\"].append({\n",
    "                        \"obj_class\": str(int(box.cls)),\n",
    "                        \"x\": str(int(box.xywh[0][0])),\n",
    "                        \"y\": str(int(box.xywh[0][1])),\n",
    "                        \"width\": str(int(box.xywh[0][2])),\n",
    "                        \"height\": str(int(box.xywh[0][3]))\n",
    "                        })\n",
    "        response.append(dict)\n",
    "    else:#\n",
    "        break#\n",
    "    count -= 1#\n",
    "\n",
    "with open('result.json', 'w') as fp:\n",
    "    json.dump(response, fp)\n"
   ]
  }
 ],
 "metadata": {
  "kernelspec": {
   "display_name": ".venv",
   "language": "python",
   "name": "python3"
  },
  "language_info": {
   "codemirror_mode": {
    "name": "ipython",
    "version": 3
   },
   "file_extension": ".py",
   "mimetype": "text/x-python",
   "name": "python",
   "nbconvert_exporter": "python",
   "pygments_lexer": "ipython3",
   "version": "3.9.6"
  }
 },
 "nbformat": 4,
 "nbformat_minor": 2
}
