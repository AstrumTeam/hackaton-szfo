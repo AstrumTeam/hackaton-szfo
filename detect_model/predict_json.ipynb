{
 "cells": [
  {
   "cell_type": "code",
   "execution_count": 2,
   "metadata": {},
   "outputs": [
    {
     "name": "stdout",
     "output_type": "stream",
     "text": [
      "\n",
      "image 1/1 /Users/shidlovskiy/Projects/hackathons/hackaton-szfo/detect_model/test_dataset/data/6a55f5a223d57b5e323b.jpg: 512x640 (no detections), 239.2ms\n",
      "Speed: 1.9ms preprocess, 239.2ms inference, 4.2ms postprocess per image at shape (1, 3, 512, 640)\n",
      "\n",
      "image 1/1 /Users/shidlovskiy/Projects/hackathons/hackaton-szfo/detect_model/test_dataset/data/8fd3ea5860b2a34f4d63.jpg: 512x640 (no detections), 156.8ms\n",
      "Speed: 0.7ms preprocess, 156.8ms inference, 0.2ms postprocess per image at shape (1, 3, 512, 640)\n",
      "\n",
      "image 1/1 /Users/shidlovskiy/Projects/hackathons/hackaton-szfo/detect_model/test_dataset/data/9bb4bd7151b76da6dbdc.jpg: 512x640 (no detections), 153.4ms\n",
      "Speed: 0.8ms preprocess, 153.4ms inference, 0.3ms postprocess per image at shape (1, 3, 512, 640)\n",
      "\n",
      "image 1/1 /Users/shidlovskiy/Projects/hackathons/hackaton-szfo/detect_model/test_dataset/data/65c7577cff6f373825c8.jpg: 512x640 (no detections), 155.2ms\n",
      "Speed: 0.6ms preprocess, 155.2ms inference, 0.2ms postprocess per image at shape (1, 3, 512, 640)\n",
      "\n",
      "image 1/1 /Users/shidlovskiy/Projects/hackathons/hackaton-szfo/detect_model/test_dataset/data/648ec3d96913d6faae11.jpg: 512x640 1 helicopter, 419.5ms\n",
      "Speed: 0.5ms preprocess, 419.5ms inference, 3.0ms postprocess per image at shape (1, 3, 512, 640)\n",
      "\n",
      "image 1/1 /Users/shidlovskiy/Projects/hackathons/hackaton-szfo/detect_model/test_dataset/data/f2388b7b4f1f7190e756.jpg: 512x640 1 plane, 155.7ms\n",
      "Speed: 0.6ms preprocess, 155.7ms inference, 0.3ms postprocess per image at shape (1, 3, 512, 640)\n",
      "\n",
      "image 1/1 /Users/shidlovskiy/Projects/hackathons/hackaton-szfo/detect_model/test_dataset/data/1694e607dc460f37dac0.jpg: 512x640 1 helicopter, 154.1ms\n",
      "Speed: 0.6ms preprocess, 154.1ms inference, 0.4ms postprocess per image at shape (1, 3, 512, 640)\n",
      "\n",
      "image 1/1 /Users/shidlovskiy/Projects/hackathons/hackaton-szfo/detect_model/test_dataset/data/2b7435d224020e12efa8.jpg: 512x640 1 helicopter, 2305.9ms\n",
      "Speed: 0.6ms preprocess, 2305.9ms inference, 0.3ms postprocess per image at shape (1, 3, 512, 640)\n",
      "\n",
      "image 1/1 /Users/shidlovskiy/Projects/hackathons/hackaton-szfo/detect_model/test_dataset/data/40878edb3fdcefe0140c.jpg: 512x640 2 helicopters, 155.3ms\n",
      "Speed: 0.5ms preprocess, 155.3ms inference, 0.3ms postprocess per image at shape (1, 3, 512, 640)\n",
      "\n",
      "image 1/1 /Users/shidlovskiy/Projects/hackathons/hackaton-szfo/detect_model/test_dataset/data/1a667e852789f1e8ffe8.jpg: 512x640 (no detections), 468.1ms\n",
      "Speed: 0.6ms preprocess, 468.1ms inference, 0.6ms postprocess per image at shape (1, 3, 512, 640)\n"
     ]
    }
   ],
   "source": [
    "from ultralytics import YOLO\n",
    "import json\n",
    "import os\n",
    "\n",
    "#Модуль для генерации json для тестового датасета\n",
    "\n",
    "model = YOLO('model.pt')\n",
    "\n",
    "response = []\n",
    "images_path = 'test_dataset/data/'\n",
    "for file_name in os.listdir(images_path):\n",
    "    threshold = 0.5\n",
    "    boxes = []\n",
    "    while threshold > 0.1 and len(boxes) == 0:\n",
    "        pred = model.predict(\n",
    "            images_path+file_name,\n",
    "            # save=True,\n",
    "            conf=threshold,\n",
    "            iou=0.4,\n",
    "            max_det=5,\n",
    "            classes=[0,1])[0]\n",
    "        boxes = pred.boxes\n",
    "        threshold -= 0.1\n",
    "\n",
    "    dict = {\"filename\": file_name,\n",
    "                \"objects\": []}\n",
    "    \n",
    "    if len(boxes) == 0:\n",
    "        dict[\"objects\"].append({})\n",
    "    else:\n",
    "        for box in boxes:\n",
    "            # pred_cls = int(box.cls)\n",
    "            # pred_x = int(box.xywh[0][0])\n",
    "            # pred_y = int(box.xywh[0][1])\n",
    "            # pred_width = int(box.xywh[0][2])\n",
    "            # pred_height = int(box.xywh[0][3])\n",
    "\n",
    "            dict[\"objects\"].append({\n",
    "                    \"obj_class\": str(int(box.cls)),\n",
    "                    \"x\": str(float(box.xywhn[0][0])),\n",
    "                    \"y\": str(float(box.xywhn[0][1])),\n",
    "                    \"width\": str(float(box.xywhn[0][2])),\n",
    "                    \"height\": str(float(box.xywhn[0][3]))\n",
    "                    })\n",
    "    response.append(dict)\n",
    "with open('result.json', 'w') as fp:\n",
    "    json.dump(response, fp)\n"
   ]
  }
 ],
 "metadata": {
  "kernelspec": {
   "display_name": ".venv",
   "language": "python",
   "name": "python3"
  },
  "language_info": {
   "codemirror_mode": {
    "name": "ipython",
    "version": 3
   },
   "file_extension": ".py",
   "mimetype": "text/x-python",
   "name": "python",
   "nbconvert_exporter": "python",
   "pygments_lexer": "ipython3",
   "version": "3.9.6"
  }
 },
 "nbformat": 4,
 "nbformat_minor": 2
}
