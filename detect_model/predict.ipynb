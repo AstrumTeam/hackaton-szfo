{
 "cells": [
  {
   "cell_type": "code",
   "execution_count": 5,
   "metadata": {},
   "outputs": [],
   "source": [
    "from ultralytics import YOLO\n",
    "from sklearn.metrics import f1_score\n",
    "from PIL import Image\n",
    "import pandas as pd\n",
    "import statistics\n",
    "import os\n",
    "\n",
    "#Модуль для анализа модели на val(images/labesl) датасете, выводит mean IoU, median IoU, F1_macro по классам"
   ]
  },
  {
   "cell_type": "code",
   "execution_count": 6,
   "metadata": {},
   "outputs": [],
   "source": [
    "def xywhn_to_xyxy(x_center, y_center, w, h, image_width, image_height):\n",
    "    x_min = (x_center - w / 2) * image_width\n",
    "    y_min = (y_center - h / 2) * image_height\n",
    "    x_max = (x_center + w / 2) * image_width\n",
    "    y_max = (y_center + h / 2) * image_height\n",
    "    return x_min, y_min, x_max, y_max\n",
    "\n",
    "def calculate_iou(box1, box2, image_width, image_height):\n",
    "    # Преобразуем xywhn в xyxy\n",
    "    x_min1, y_min1, x_max1, y_max1 = xywhn_to_xyxy(*box1, image_width, image_height)\n",
    "    x_min2, y_min2, x_max2, y_max2 = xywhn_to_xyxy(*box2, image_width, image_height)\n",
    "    \n",
    "    # Найдем координаты пересечения\n",
    "    inter_x_min = max(x_min1, x_min2)\n",
    "    inter_y_min = max(y_min1, y_min2)\n",
    "    inter_x_max = min(x_max1, x_max2)\n",
    "    inter_y_max = min(y_max1, y_max2)\n",
    "    \n",
    "    # Вычислим площадь пересечения\n",
    "    if inter_x_min < inter_x_max and inter_y_min < inter_y_max:\n",
    "        intersection_area = (inter_x_max - inter_x_min) * (inter_y_max - inter_y_min)\n",
    "    else:\n",
    "        intersection_area = 0\n",
    "    \n",
    "    # Вычисляем площади прямоугольников\n",
    "    area1 = (x_max1 - x_min1) * (y_max1 - y_min1)\n",
    "    area2 = (x_max2 - x_min2) * (y_max2 - y_min2)\n",
    "    \n",
    "    # Вычисляем IoU\n",
    "    iou = intersection_area / (area1 + area2 - intersection_area)\n",
    "    \n",
    "    return iou"
   ]
  },
  {
   "cell_type": "code",
   "execution_count": 4,
   "metadata": {},
   "outputs": [],
   "source": [
    "model = YOLO('model.pt')\n",
    "\n",
    "iou_list = []\n",
    "test_cls_list = []\n",
    "pred_cls_list = []\n",
    "\n",
    "images_path = 'test/images/'\n",
    "labels_path = 'test/labels/'\n",
    "for file_name in os.listdir(images_path):\n",
    "    \n",
    "    #Прогноз модели\n",
    "    threshold = 0.4\n",
    "    pred = model.predict(\n",
    "        images_path+file_name,\n",
    "        # save=True,\n",
    "        conf=threshold,\n",
    "        iou=0.4,\n",
    "        max_det=5,\n",
    "        classes=[0,1])[0]\n",
    "    boxes = pred.boxes\n",
    "    \n",
    "    #Если объекта нет, ставим нули\n",
    "    if len(boxes) >= 1:\n",
    "        pred_x1, pred_y1, pred_x2, pred_y2 = boxes.xywhn[0].tolist()\n",
    "        pred_cls = int(boxes.cls[0])\n",
    "        pred_cls_list.append(pred_cls)\n",
    "        conf = float(boxes.conf[0])\n",
    "    else:\n",
    "        pred_x1, pred_y1, pred_x2, pred_y2 = 0, 0, 0, 0\n",
    "        pred_cls_list.append(0)\n",
    "        conf = 0\n",
    "    \n",
    "    #Считываем labels\n",
    "    with open(labels_path + file_name[:-4] + '.txt', 'r') as test_file:\n",
    "        data = test_file.readline().split(' ')\n",
    "        test_cls = float(data[0])\n",
    "        test_cls_list.append(test_cls)\n",
    "        test_x1, test_y1, test_x2, test_y2 = float(data[1]), float(data[2]), float(data[3]), float(data[4])\n",
    "        \n",
    "        image = Image.open(images_path+file_name)\n",
    "        width, height = image.size\n",
    "\n",
    "        iou = calculate_iou(\n",
    "            [pred_x1, pred_y1, pred_x2, pred_y2], \n",
    "            [test_x1, test_y1, test_x2, test_y2], \n",
    "            width, height)\n",
    "        \n",
    "        iou_list.append(iou)"
   ]
  },
  {
   "cell_type": "code",
   "execution_count": 24,
   "metadata": {},
   "outputs": [],
   "source": [
    "print('Mean: ' + str(statistics.mean(iou_list)))\n",
    "print('Median: ' + str(statistics.median(iou_list)))\n",
    "print('F1 macro: ' + str(f1_score(test_cls_list, pred_cls_list, average='macro')))"
   ]
  }
 ],
 "metadata": {
  "kernelspec": {
   "display_name": ".venv",
   "language": "python",
   "name": "python3"
  },
  "language_info": {
   "codemirror_mode": {
    "name": "ipython",
    "version": 3
   },
   "file_extension": ".py",
   "mimetype": "text/x-python",
   "name": "python",
   "nbconvert_exporter": "python",
   "pygments_lexer": "ipython3",
   "version": "3.9.6"
  }
 },
 "nbformat": 4,
 "nbformat_minor": 2
}
